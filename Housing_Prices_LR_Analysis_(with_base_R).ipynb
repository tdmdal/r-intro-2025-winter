{
  "nbformat": 4,
  "nbformat_minor": 0,
  "metadata": {
    "kernelspec": {
      "display_name": "R",
      "language": "R",
      "name": "ir"
    },
    "language_info": {
      "codemirror_mode": "r",
      "file_extension": ".r",
      "mimetype": "text/x-r-source",
      "name": "R",
      "pygments_lexer": "r",
      "version": "3.5.0"
    },
    "colab": {
      "provenance": []
    }
  },
  "cells": [
    {
      "cell_type": "markdown",
      "metadata": {
        "id": "a9851aPLtFxK"
      },
      "source": [
        "# 1 Data Import and Manipulation\n",
        "\n",
        "We first import a dataset from a Github repo of our lab. This is a dataset on housing prices and air pollution in [Harrison & Rubinfeld (1978)](https://www.sciencedirect.com/science/article/pii/0095069678900062). The dataset is also used throughout an undergraduate econometrics text book by Wooldridge: *Introductory Econometrics: A Modern Approach*. (There is a R package ([wooldridge](https://justinmshea.github.io/wooldridge/index.html)) that collects all the datasets used in that book.)\n",
        "\n",
        "After briefly inspecting the data, we prepare the dataset for modeling. We then conduct some linear regression analysis."
      ]
    },
    {
      "cell_type": "markdown",
      "source": [
        "## 1.1 Data Import"
      ],
      "metadata": {
        "id": "T493aL1vwbTD"
      }
    },
    {
      "cell_type": "code",
      "metadata": {
        "id": "_Fb_txBt_y_J"
      },
      "source": [
        "# load data\n",
        "data_url <- \"https://github.com/tdmdal/datasets-teaching/raw/main/hprice/hprice.csv\"\n",
        "hprice <- read.csv(data_url)"
      ],
      "execution_count": null,
      "outputs": []
    },
    {
      "cell_type": "markdown",
      "source": [
        "## 1.2 Quick Inspection\n",
        "\n",
        "Let's quickly inspect the data. By no means the data exploration done here is complete and thorough."
      ],
      "metadata": {
        "id": "GYCHmtXcwl85"
      }
    },
    {
      "cell_type": "code",
      "metadata": {
        "id": "V138ixeH_y_S"
      },
      "source": [
        "# take a look at the structure of the data\n",
        "str(hprice)"
      ],
      "execution_count": null,
      "outputs": []
    },
    {
      "cell_type": "markdown",
      "metadata": {
        "id": "vZqiTW3388-G"
      },
      "source": [
        "Data Dictionary ([Source](http://fmwww.bc.edu/ec-p/data/wooldridge/hprice2.des))\n",
        "\n",
        "| Variable    | Description                         |\n",
        "|-------------|-------------------------------------|\n",
        "| 1. price    | median housing price, \\$            |\n",
        "| 2. crime    | crimes committed per capita         |\n",
        "| 3. nox      | nitrous oxide, parts per 100 mill.  |\n",
        "| 4. rooms    | avg number of rooms per house       |\n",
        "| 5. dist     | weighted dist. to 5 employ centers  |\n",
        "| 6. radial   | accessibiliy index to radial hghwys |\n",
        "| 7. proptax  | property tax per $1000              |\n",
        "| 8. stratio  | average student-teacher ratio       |\n",
        "| 9. lowstat  | % of people 'lower status'          |\n",
        "\n"
      ]
    },
    {
      "cell_type": "code",
      "metadata": {
        "id": "_2aBKG0B_y_X"
      },
      "source": [
        "# print the first few rows of the dataset\n",
        "head(hprice)"
      ],
      "execution_count": null,
      "outputs": []
    },
    {
      "cell_type": "code",
      "source": [
        "# summary statist\n",
        "summary(hprice)"
      ],
      "metadata": {
        "id": "DaPYfs65Yucm"
      },
      "execution_count": null,
      "outputs": []
    },
    {
      "cell_type": "markdown",
      "source": [
        "Let's focus on `price`, `nox`, `rooms` and `stratio` for this analysis."
      ],
      "metadata": {
        "id": "dBZGPqL8-T4q"
      }
    },
    {
      "cell_type": "code",
      "source": [
        "# pairwise scatter plot\n",
        "pairs(hprice[c(\"price\", \"nox\", \"rooms\", \"stratio\")])"
      ],
      "metadata": {
        "id": "r-HuQcu3x_5B"
      },
      "execution_count": null,
      "outputs": []
    },
    {
      "cell_type": "code",
      "source": [
        "# correlation matrix\n",
        "cor(hprice[c(\"price\", \"nox\", \"rooms\", \"stratio\")])"
      ],
      "metadata": {
        "id": "gpTu_VpXyRX8"
      },
      "execution_count": null,
      "outputs": []
    },
    {
      "cell_type": "code",
      "source": [
        "# histogram and boxplot for price and log price\n",
        "par(mfrow=c(2,2))\n",
        "hist(hprice$price, main = \"Histogram of price\")\n",
        "hist(log(hprice$price), main = \"Histogram of log price\")\n",
        "boxplot(hprice$price)\n",
        "boxplot(log(hprice$price))"
      ],
      "metadata": {
        "id": "VnGRcKUYxQkX"
      },
      "execution_count": null,
      "outputs": []
    },
    {
      "cell_type": "code",
      "source": [
        "# histogram and boxplot for nox and log nox\n",
        "par(mfrow=c(2,2))\n",
        "hist(hprice$nox)\n",
        "hist(log(hprice$nox))\n",
        "boxplot(hprice$nox)\n",
        "boxplot(log(hprice$nox))"
      ],
      "metadata": {
        "id": "QqFkTOSb_-Tu"
      },
      "execution_count": null,
      "outputs": []
    },
    {
      "cell_type": "markdown",
      "source": [
        "## 1.3 Data Manipulation (Preparation for Modeling)"
      ],
      "metadata": {
        "id": "d2LsD453w6em"
      }
    },
    {
      "cell_type": "code",
      "source": [
        "# get rid of price outliners (outside 5th to 95th percentile)\n",
        "hprice_reg <- hprice[which(hprice$price < quantile(hprice$price, 0.95) & hprice$price > quantile(hprice$price, 0.05)), , drop = FALSE]\n",
        "str(hprice_reg)"
      ],
      "metadata": {
        "id": "yxTS0ZrKCrPb"
      },
      "execution_count": null,
      "outputs": []
    },
    {
      "cell_type": "code",
      "metadata": {
        "id": "ohlnFmav_6k0"
      },
      "source": [
        "# create log price and log nox\n",
        "hprice_reg[\"lprice\"] <- log(hprice_reg[\"price\"])\n",
        "hprice_reg[\"lnox\"] <- log(hprice_reg[\"nox\"])"
      ],
      "execution_count": null,
      "outputs": []
    },
    {
      "cell_type": "markdown",
      "metadata": {
        "id": "iltXOxDyt8uD"
      },
      "source": [
        "# 2 Modelling\n",
        "\n",
        "We will start by runing a simple regression to investigate the effect of air pollution on housing price.\n",
        "\n",
        "$log(price) = \\beta_0 + \\beta_1log(nox) + u$."
      ]
    },
    {
      "cell_type": "code",
      "metadata": {
        "id": "L9nHLj68C9U4"
      },
      "source": [
        "# setup a simple regression model\n",
        "lr <- lm(formula = lprice ~ lnox, data = hprice_reg)"
      ],
      "execution_count": null,
      "outputs": []
    },
    {
      "cell_type": "markdown",
      "source": [
        "Let's run a mulitple regression to investigate the effect of air pollution on housing price, but this time we control for rooms (and rooms squared) and student-teacher ratio.\n",
        "\n",
        "$log(price) = \\beta_0 + \\beta_1log(nox) + \\beta_2rooms + \\beta_2rooms^2 + \\beta_4stratio + u$."
      ],
      "metadata": {
        "id": "1GD7TsesGCBj"
      }
    },
    {
      "cell_type": "code",
      "source": [
        "lr_multiple <- lm(lprice ~ lnox + rooms + I(rooms^2) + stratio, data = hprice_reg)"
      ],
      "metadata": {
        "id": "MMYCplqJF0hZ"
      },
      "execution_count": null,
      "outputs": []
    },
    {
      "cell_type": "markdown",
      "metadata": {
        "id": "jpTzhDU8uNEc"
      },
      "source": [
        "# 3 Report & Graph\n",
        "\n",
        "We report the regression result, and plot a few graphs."
      ]
    },
    {
      "cell_type": "markdown",
      "source": [
        "## 3.1 Report"
      ],
      "metadata": {
        "id": "2rWpvp3HMHRl"
      }
    },
    {
      "cell_type": "code",
      "metadata": {
        "id": "9b4OtC34muGS"
      },
      "source": [
        "# report the simple regression result\n",
        "summary(lr)"
      ],
      "execution_count": null,
      "outputs": []
    },
    {
      "cell_type": "code",
      "source": [
        "# report the multiple regression result\n",
        "summary(lr_multiple)"
      ],
      "metadata": {
        "id": "cAaKq5BhL8PN"
      },
      "execution_count": null,
      "outputs": []
    },
    {
      "cell_type": "markdown",
      "source": [
        "## 3.2 Graphs"
      ],
      "metadata": {
        "id": "gpiPiyrdMKKK"
      }
    },
    {
      "cell_type": "code",
      "metadata": {
        "id": "whXlXzX5FQnE"
      },
      "source": [
        "# plot data and regression line for the simple regression\n",
        "par(mfrow = c(1, 1))\n",
        "plot(hprice_reg[c(\"lnox\", \"lprice\")])\n",
        "abline(coef(lr))"
      ],
      "execution_count": null,
      "outputs": []
    },
    {
      "cell_type": "markdown",
      "source": [
        "Plot a few diagnositic plots. See [here](https://data.library.virginia.edu/diagnostic-plots/) for what they are for."
      ],
      "metadata": {
        "id": "_32chrvnQqie"
      }
    },
    {
      "cell_type": "code",
      "metadata": {
        "id": "evZbiypPmtWh"
      },
      "source": [
        "# plot a few post regression Diagnostic Plots for the simple regression\n",
        "par(mfrow = c(2, 2))\n",
        "plot(lr)"
      ],
      "execution_count": null,
      "outputs": []
    },
    {
      "cell_type": "code",
      "metadata": {
        "id": "EDc6aVaPOaxN"
      },
      "source": [
        "# plot a few post regression Diagnostic Plots for the mulitple regression\n",
        "par(mfrow = c(2, 2))\n",
        "plot(lr_multiple)"
      ],
      "execution_count": null,
      "outputs": []
    },
    {
      "cell_type": "markdown",
      "source": [
        "# 4. A note on predictive analysis\n",
        "\n",
        "We have so far seen a typical workflow for a causal regression analysis. A causal analysis investigates causal relationships between variables (e.g., whether x causes y while controlling z.)\n",
        "\n",
        "On the other hand, a predictive analysis mainly concerns whether a model gives good predictions. Therefore, in predictive analysis, it’s important to evaluate how an estimated model may perform in the real world. To obtain an unbiased evaluation of model performance, before estimating the model, the dataset is often split into two subsets, a training set and a test set (sometimes called validation set). The training set is used to estimate model parameters (i.e., train the model), and the test set is used to evaluate the estimated model.\n",
        "\n",
        "Below I will show you how to\n",
        "\n",
        "1. randomly split the data into training and test set.\n",
        "2. train/estimate a linear regression model on training set.\n",
        "3. evaluate the estimated model on test set, i.e., predict on the test set, and obtain evaluation measures of interest."
      ],
      "metadata": {
        "id": "UGkcM7-Jnrih"
      }
    },
    {
      "cell_type": "code",
      "source": [
        "# set a random seed so you can reproduce the result\n",
        "set.seed(123)\n",
        "\n",
        "# proportion of data for training\n",
        "prop_train <- 0.8\n",
        "\n",
        "# total size of the raw data\n",
        "size_total <- nrow(hprice)\n",
        "\n",
        "# size of training data\n",
        "size_train <- as.integer(prop_train * size_total)\n",
        "\n",
        "# training and test data split\n",
        "# https://stat.ethz.ch/R-manual/R-devel/library/base/html/sample.html\n",
        "train_idx <- sample(1:size_total, size = size_train)\n",
        "hprice_train <- hprice[train_idx,]\n",
        "hprice_test <- hprice[-train_idx,]\n",
        "\n",
        "# prepare the training data\n",
        "hprice_train[\"lprice\"] = log(hprice_train[\"price\"])\n",
        "hprice_train[\"lnox\"] = log(hprice_train[\"nox\"])\n",
        "\n",
        "# train/estimate a regression model\n",
        "lr_train <- lm(lprice ~ lnox + rooms + I(rooms^2) + stratio, data = hprice_train)\n",
        "summary(lr_train)"
      ],
      "metadata": {
        "id": "LdgX_lfgJ2W2"
      },
      "execution_count": null,
      "outputs": []
    },
    {
      "cell_type": "markdown",
      "source": [
        "Let's take a look on training MSE."
      ],
      "metadata": {
        "id": "P3p7EVEGF8oF"
      }
    },
    {
      "cell_type": "code",
      "source": [
        "# predict lprice using the estimated model on training data\n",
        "lprice_pred_train <- predict(lr_train, hprice_train)\n",
        "\n",
        "# calcualte MSE on training\n",
        "MSE_train <- mean((lprice_pred_train - hprice_train$lprice)^2)\n",
        "MSE_train"
      ],
      "metadata": {
        "id": "caP-aGKd-0xq"
      },
      "execution_count": null,
      "outputs": []
    },
    {
      "cell_type": "code",
      "source": [
        "# verify the training MSE calcuated above using the residuals already produced by lm()\n",
        "mean(lr_train$residuals^2)"
      ],
      "metadata": {
        "id": "gVq8dEgRFUVA"
      },
      "execution_count": null,
      "outputs": []
    },
    {
      "cell_type": "markdown",
      "source": [
        "Now, let's see how our estimated model may perform in the real world. That is, evaluate the model on test data."
      ],
      "metadata": {
        "id": "FobGlA_7GQHR"
      }
    },
    {
      "cell_type": "code",
      "source": [
        "# prepare the test data\n",
        "hprice_test[\"lprice\"] = log(hprice_test[\"price\"])\n",
        "hprice_test[\"lnox\"] = log(hprice_test[\"nox\"])\n",
        "\n",
        "# predict lprice using the estimated model on test data\n",
        "lprice_pred_test <- predict(lr_train, hprice_test)\n",
        "\n",
        "# calcualte MSE on test\n",
        "MSE_test <- mean((lprice_pred_test - hprice_test$lprice)^2)\n",
        "MSE_test"
      ],
      "metadata": {
        "id": "DOzsqdgnGObd"
      },
      "execution_count": null,
      "outputs": []
    },
    {
      "cell_type": "markdown",
      "source": [
        "Above, we obtained the MSE of predicted `lprice` on test data (i.e. $log$ of price). Let's see what's the MSE for price prediction. Let's also calculate price prediction's RMSE (Root MSE) and MAE (Mean Absolution Error), and see how they compares with the mean price (i.e. mean median housing price) in the test data."
      ],
      "metadata": {
        "id": "oKC9gg9jG_Z7"
      }
    },
    {
      "cell_type": "code",
      "source": [
        "MSE_test_price <- mean((exp(lprice_pred_test) - hprice_test$price)^2)\n",
        "MAE_test_price <- mean(abs(exp(lprice_pred_test) - hprice_test$price))\n",
        "mean_price <- mean(hprice_test$price)\n",
        "cat(\"MSE:\", MSE_test_price, \"\\n\")\n",
        "cat(\"RMSE:\", sqrt(MSE_test_price), \"\\n\")\n",
        "cat(\"MAE:\", MAE_test_price, \"($)\\n\")\n",
        "cat(\"Mean Price:\", mean_price, \"($)\\n\")\n",
        "\n",
        "cat(\"RMSE / Mean Price:\", sqrt(MSE_test_price) / mean_price, \"\\n\")\n",
        "cat(\"MAE / Mean Price:\", MAE_test_price / mean_price, \"\\n\")"
      ],
      "metadata": {
        "id": "wvKzgtKbG-jO"
      },
      "execution_count": null,
      "outputs": []
    },
    {
      "cell_type": "markdown",
      "source": [
        "The model gives about 25% RMSE error and 17% MAE error, both with respect to mean housing median price. The model certainly has room to improve."
      ],
      "metadata": {
        "id": "s3E9SO-FP3wL"
      }
    },
    {
      "cell_type": "code",
      "source": [],
      "metadata": {
        "id": "XOGLUZnqIiEZ"
      },
      "execution_count": null,
      "outputs": []
    }
  ]
}