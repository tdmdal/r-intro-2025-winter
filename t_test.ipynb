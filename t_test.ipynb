{
  "nbformat": 4,
  "nbformat_minor": 0,
  "metadata": {
    "colab": {
      "provenance": []
    },
    "kernelspec": {
      "name": "ir",
      "display_name": "R"
    },
    "language_info": {
      "name": "R"
    }
  },
  "cells": [
    {
      "cell_type": "markdown",
      "source": [
        "# 1 Intro\n",
        "\n",
        "In this notebook, we learn how to use R to perform a t-test. I assume that you know what a t-test is, and therefore will only focus on the R coding part. Nevertheless, I will briefly review the concept of t-test.\n",
        "\n",
        "T-test is a statistical hypothesis test for evaluating means of one or two populations. There are three kinds of t-tests for mean comparisons.\n",
        "\n",
        "1. A *one-sample t-test* is used to decide if the population mean is equal to a specific value or not, e.g., whether the mean heart rate of a group of people is equal to 70 or not.\n",
        "\n",
        "2. A *two-sample t-test* is used to decide if the population means for two different groups are equal or not, e.g., whether the mean heart rates for two groups of people are the same or not.\n",
        "\n",
        "3. A *paired t-test* is used to decide if the difference between paired measurements for a population is zero or not, e.g., whether mean difference in heart rate for a group of people before and after exercise is zero or not.\n",
        "\n",
        "To perform a t-test, you can follow the below steps.\n",
        "\n",
        "1. Define the hypothesis you are going to test (null hypothesis $H_0$ and alternative hypothesis $H_a$), and specify an acceptable risk of drawing a faulty conclusion, i.e., the type-I error rate (or significance level), $\\alpha$ (e.g., $\\alpha=0.05$).\n",
        "\n",
        "2. Calculate a test statistic from your data, and compare it to a theoretical value (critical value) from a t-distribution. Alternatively, you can calculate the p-value corresponding to the test statistics. Depending on the outcome, you either reject or fail to reject your null hypothesis.\n",
        "\n",
        "See [here](https://www.jmp.com/en_ca/statistics-knowledge-portal/t-test.html) for a discussion on the three t-tests including an excellent comparison table. Most of my above discussion are drawn from there.\n",
        "\n",
        "**Note 1**: t-test is also commonly used in linear regression analysis to test whether a coefficient/slope of a regressor (i.e., a predictor or a explanatory variable) is equal to zero. You will see this when we discuss how to run linear regression using R.\n",
        "\n",
        "**Note 2**: People often believe that t-test requires the assumption that the data follows a normal distribution. However, by the central limit theorem, sample mean of moderately large samples (a size above 30) is often well-approximated by a normal distribution, even if the individual data are not normally distributed. In fact, that's often good enough for t-test, so for large samples, the t-test can be applied without the data being strictly from a normal distribution ([Lumley et. al., 2002](https://pubmed.ncbi.nlm.nih.gov/11910059/)). On the other hand, it is still important to ensure that other assumptions of the t-test are met: 1) the sample data are randomly sampled from a population; 2) for two-sample t-test, the variability of the data in each group is similar. (However, if samples are from normal distribution and the sizes of the two groups are the same, t-test is highly robust to the presence of unequal variances ([Markowski & Markowski, 1990](https://doi.org/10.2307/2684360)))."
      ],
      "metadata": {
        "id": "XQF3QTLkRIKX"
      }
    },
    {
      "cell_type": "markdown",
      "source": [
        "# 2 One-sample t-test\n",
        "\n",
        "Let's generate some data for the t-test exercise. We will generate 300 independent random normals with mean = 70 and standard deviation 5."
      ],
      "metadata": {
        "id": "KDJP7U2Vblpb"
      }
    },
    {
      "cell_type": "code",
      "source": [
        "# set random seed so you can reproduce the result\n",
        "set.seed(1)"
      ],
      "metadata": {
        "id": "uAHc0Mq0pWwC"
      },
      "execution_count": null,
      "outputs": []
    },
    {
      "cell_type": "code",
      "execution_count": null,
      "metadata": {
        "id": "G4WUctFJQedu"
      },
      "outputs": [],
      "source": [
        "# 300 normal with mean = 70 and sd = 5\n",
        "heart_rate <- rnorm(n = 300, mean = 70, sd = 5)\n",
        "heart_rate[1:10]"
      ]
    },
    {
      "cell_type": "markdown",
      "source": [
        "## 2.1 A two-sided one-sample t-test"
      ],
      "metadata": {
        "id": "ckXSOQmbB_cr"
      }
    },
    {
      "cell_type": "markdown",
      "source": [
        "Let's test whether the population mean is equal to 71. Our null hypothesis is $H_0: \\mu = 71$ and alternative hypothesis is $H_a: \\mu \\neq 71$. We choose significance level $\\alpha = 0.05$.\n",
        "\n",
        "As a practice, let's first calculate the t test statistic using the formula.\n",
        "\n",
        "$$t = \\frac{\\bar{x}-\\mu_0}{s/\\sqrt{n}},$$\n",
        "\n",
        "where $\\bar{x}$ is sample mean, $\\mu_0$ is population mean under null, $s$ is sample standard deviation, and $n$ is number of samples."
      ],
      "metadata": {
        "id": "w-5qfdpAqErU"
      }
    },
    {
      "cell_type": "code",
      "source": [
        "# calculate t statistic\n",
        "x <- heart_rate\n",
        "n <- length(heart_rate)\n",
        "t <- (mean(x) - 71) / (sd(x) / sqrt(n))\n",
        "t"
      ],
      "metadata": {
        "id": "q53s68sdsbbV"
      },
      "execution_count": null,
      "outputs": []
    },
    {
      "cell_type": "markdown",
      "source": [
        "The degree of freedom in this one sample test is $n-1 = 299$. Since t-distribution is symmetric, we can find the critical value for this two-sided test by find the 97.5% quantile of a t-distribution with degree of freedom 299."
      ],
      "metadata": {
        "id": "zc481kGbtI1y"
      }
    },
    {
      "cell_type": "code",
      "source": [
        "# t-distribution document, https://stat.ethz.ch/R-manual/R-devel/library/stats/html/TDist.html\n",
        "critical_value <- qt(p = 0.975, df = 299)\n",
        "critical_value"
      ],
      "metadata": {
        "id": "a78YGu0BtzdA"
      },
      "execution_count": null,
      "outputs": []
    },
    {
      "cell_type": "markdown",
      "source": [
        "The critical values are $\\pm1.968$. Note that this number is close to the one that you will get from a standard normal distribution, $\\pm1.96$. This is expected. At a degree of freedom 299, the t-distribution is approximately a standard normal.\n",
        "\n",
        "Since t-distribution is symmetric, we can compare the absolute value of our t statistic to the positive critical value. Since $|t| > 1.968$, we reject the null hypothesis.\n",
        "\n",
        "The t-distribution (under the null hypothesis), t statistic, and critical values are illustrated in the below plot. Each pink region in the plot has a mass of 0.025."
      ],
      "metadata": {
        "id": "N2OtioRVwL4_"
      }
    },
    {
      "cell_type": "code",
      "source": [
        "# plot the t distribution on the domain [-4,4]\n",
        "curve(dnorm(x),\n",
        "      xlim = c(-4, 4),\n",
        "      main = 't-distriubtion (df=299)',\n",
        "      yaxs = 'i',\n",
        "      xlab = 't statistic',\n",
        "      ylab = '',\n",
        "      lwd = 2,    #line width\n",
        "      axes = FALSE)\n",
        "\n",
        "# add x-axis\n",
        "axis(1,\n",
        "     at = c(-4, -2.99, 0, -1.968, 1.968, 4),\n",
        "     padj = 0.5,\n",
        "     labels = c('', expression(t==-2.99), 0, \"-1.968\", \"1.968\", ''))\n",
        "\n",
        "# shade rejection region in left tail\n",
        "polygon(x = c(-4, seq(-4, -1.968, 0.01), -1.968),\n",
        "        y = c(0, dt(seq(-4, -1.968, 0.01), 299), 0),\n",
        "        col = 'deeppink')\n",
        "\n",
        "# shade rejection region in right tail\n",
        "polygon(x = c(1.968, seq(1.968, 4, 0.01), 4),\n",
        "        y = c(0, dt(seq(1.968, 4, 0.01), 299), 0),\n",
        "        col = 'deeppink')"
      ],
      "metadata": {
        "id": "-2f2PcUkv13N"
      },
      "execution_count": null,
      "outputs": []
    },
    {
      "cell_type": "markdown",
      "source": [
        "Alternatively, we can calculate the p-value for the t statistic."
      ],
      "metadata": {
        "id": "jiDqjTW94XCY"
      }
    },
    {
      "cell_type": "code",
      "source": [
        "p_value <- 2 * pt(q = t, df = 299, lower.tail = TRUE)\n",
        "p_value"
      ],
      "metadata": {
        "id": "TPMdJgthyM_k"
      },
      "execution_count": null,
      "outputs": []
    },
    {
      "cell_type": "markdown",
      "source": [
        "Since the p-value is less than 0.05, we reject the null hypothesis, reaching the same conclusion as using the critical value approach.\n",
        "\n",
        "Now, R conveniently provides us a t-test function, `t.test()`, so we don't need to do the calculation like above, and we can simply call the `t.test()` function to perform a t-test."
      ],
      "metadata": {
        "id": "_8Id5Gbw0xo0"
      }
    },
    {
      "cell_type": "code",
      "source": [
        "# t.test() document, https://stat.ethz.ch/R-manual/R-devel/library/stats/html/t.test.html\n",
        "t.test(x = heart_rate, mu = 71, alternative = \"two.sided\")"
      ],
      "metadata": {
        "id": "rwI-QBl0m7Ev"
      },
      "execution_count": null,
      "outputs": []
    },
    {
      "cell_type": "markdown",
      "source": [
        "Note that the t statistic, the degree of freedom and the p-value all match our manual calculation."
      ],
      "metadata": {
        "id": "IpA1HpuE1Wh7"
      }
    },
    {
      "cell_type": "markdown",
      "source": [
        "## 2.2. A one-side one-sample t-test\n",
        "\n",
        "Now what if our hypothesis is $H_0: \\mu <= 71$ and $H_a: \\mu > 71$. We again choose significance level $\\alpha = 0.05$. This is a one-sided test. We again call the `t.test()` function. We just need to set the correct argument."
      ],
      "metadata": {
        "id": "x0wJqt33CNo2"
      }
    },
    {
      "cell_type": "code",
      "source": [
        "t.test(x = heart_rate, mu = 71, alternative = \"great\")"
      ],
      "metadata": {
        "id": "YTbJ5dF_2Uq6"
      },
      "execution_count": null,
      "outputs": []
    },
    {
      "cell_type": "markdown",
      "source": [
        "This time, the p-value is greater than 0.05 so we fail to reject the null. (Note that as expected the t statistic and degree of freedom is the same as before.)"
      ],
      "metadata": {
        "id": "EDL2KBRC2pcg"
      }
    },
    {
      "cell_type": "markdown",
      "source": [
        "## Exercise\n",
        "\n",
        "Draw 200 samples independently from a uniform (0, 10) distribution, and test the hypothesis that the population mean is 5."
      ],
      "metadata": {
        "id": "D639RebS3xP2"
      }
    },
    {
      "cell_type": "code",
      "source": [
        "# your code here"
      ],
      "metadata": {
        "id": "LfVDdo104vLa"
      },
      "execution_count": null,
      "outputs": []
    },
    {
      "cell_type": "markdown",
      "source": [
        "# 3 Two-sample t-test\n",
        "\n",
        "Start by generating some data."
      ],
      "metadata": {
        "id": "ir88blRd1eBs"
      }
    },
    {
      "cell_type": "code",
      "source": [
        "# the first group is the same as the one from the previous draw\n",
        "heart_rate_group1 <- heart_rate\n",
        "\n",
        "# generate data for group 2\n",
        "heart_rate_group2 <- rnorm(n = 300, mean = 71, sd = 5)"
      ],
      "metadata": {
        "id": "tINYdBZj1c2H"
      },
      "execution_count": null,
      "outputs": []
    },
    {
      "cell_type": "markdown",
      "source": [
        "Let's test $H_0: \\mu_1 = \\mu_2$ and $H_a: \\mu_1 \\neq \\mu_2$. Again, we choose the significance level $\\alpha = 0.05$."
      ],
      "metadata": {
        "id": "km7tqvVsFmhN"
      }
    },
    {
      "cell_type": "code",
      "source": [
        "t.test(x = heart_rate_group1, y = heart_rate_group2, alternative = \"two.sided\")"
      ],
      "metadata": {
        "id": "jQQS7Pm7F1HW"
      },
      "execution_count": null,
      "outputs": []
    },
    {
      "cell_type": "markdown",
      "source": [
        "The p-value is greater than 0.05 so we fail to reject the null hypothesis although it's a close call.\n",
        "\n",
        "The `t.test()` function has another argument `var.equal`. It is \"a logical variable indicating whether to treat the two variances [from the two groups] as being equal. If TRUE then the pooled variance is used to estimate the variance otherwise the Welch (or Satterthwaite) approximation to the degrees of freedom is used.\"\n",
        "\n",
        "The default value for `var.equal` is `FALSE`. We could set it to `TRUE` in our case as we know the variance from the two groups are the same."
      ],
      "metadata": {
        "id": "XfVU661iIN4a"
      }
    },
    {
      "cell_type": "code",
      "source": [
        "t.test(x = heart_rate_group1, y = heart_rate_group2, alternative = \"two.sided\", var.equal = TRUE)"
      ],
      "metadata": {
        "id": "FihU9YURMXuX"
      },
      "execution_count": null,
      "outputs": []
    },
    {
      "cell_type": "markdown",
      "source": [
        "Notice the change in degree of freedom calculation. Again, we fail to reject the null hypothesis."
      ],
      "metadata": {
        "id": "HmOoBRFGMewf"
      }
    },
    {
      "cell_type": "markdown",
      "source": [
        "## Question\n",
        "\n",
        "We generated the data so we know the population means for group 1 and 2 are 70 and 71 respectively, but how come our t-test fails to reject the null hypothesis that the two means are the same?"
      ],
      "metadata": {
        "id": "0Y-6KgqdLYrI"
      }
    },
    {
      "cell_type": "markdown",
      "source": [
        "# 4 Paired t-test\n",
        "\n",
        "Start again by generating some data."
      ],
      "metadata": {
        "id": "-AhI7tiRNQxC"
      }
    },
    {
      "cell_type": "code",
      "source": [
        "# heart rate before exercise (same data as the first draw)\n",
        "heart_rate_before_ex <- heart_rate\n",
        "\n",
        "# heart rate after exercise (same data as the group 2 before)\n",
        "heart_rate_after_ex <- heart_rate_group2"
      ],
      "metadata": {
        "id": "thwVcJOqI2FC"
      },
      "execution_count": null,
      "outputs": []
    },
    {
      "cell_type": "markdown",
      "source": [
        "We will test $H_0: \\mu_d = 0$ and $H_a: \\mu_d \\neq 0$, where $\\mu_d$ is population mean of difference. Keep significance level $\\alpha = 0.05$.\n",
        "\n",
        "**Note**: In a paired t-test, we test whether the mean of differences is zero. In the previous two-sample t-test, we test whether difference in means is zero.\n",
        "\n",
        "Now apply the paired t-test."
      ],
      "metadata": {
        "id": "TLsppvlgOj1o"
      }
    },
    {
      "cell_type": "code",
      "source": [
        "t.test(x = heart_rate_before_ex, y = heart_rate_after_ex, alternative = \"two.sided\", paired = TRUE)"
      ],
      "metadata": {
        "id": "Yx5Y0-d4OkjZ"
      },
      "execution_count": null,
      "outputs": []
    },
    {
      "cell_type": "markdown",
      "source": [
        "We fail to reject null.\n",
        "\n",
        "Note that the above paired t-test is equivalent to the below one sample t-test on difference."
      ],
      "metadata": {
        "id": "GE5zOreVP7wx"
      }
    },
    {
      "cell_type": "code",
      "source": [
        "dif <- heart_rate_before_ex - heart_rate_after_ex\n",
        "t.test(x = dif, mu = 0, alternative = \"two.sided\")"
      ],
      "metadata": {
        "id": "rZnAMT9cPk4I"
      },
      "execution_count": null,
      "outputs": []
    },
    {
      "cell_type": "markdown",
      "source": [
        "# References\n",
        "\n",
        "1. The t-test, https://www.jmp.com/en_ca/statistics-knowledge-portal/t-test.html\n",
        "2. Markowski, C. A., & Markowski, E. P. (1990). Conditions for the Effectiveness of a Preliminary Test of Variance. The American Statistician, 44(4), 322–326. https://doi.org/10.2307/2684360\n",
        "3. Lumley, T., Diehr, P., Emerson, S., & Chen, L. (2002). The importance of the normality assumption in large public health data sets. Annual review of public health, 23, 151–169. https://doi.org/10.1146/annurev.publhealth.23.100901.140546"
      ],
      "metadata": {
        "id": "TRdwgDgg3qYH"
      }
    },
    {
      "cell_type": "code",
      "source": [],
      "metadata": {
        "id": "HFbXc91-P5Ao"
      },
      "execution_count": null,
      "outputs": []
    }
  ]
}