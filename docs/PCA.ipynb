{
  "nbformat": 4,
  "nbformat_minor": 0,
  "metadata": {
    "colab": {
      "provenance": []
    },
    "kernelspec": {
      "name": "ir",
      "display_name": "R"
    },
    "language_info": {
      "name": "R"
    }
  },
  "cells": [
    {
      "cell_type": "markdown",
      "source": [
        "#1 Intro\n",
        "\n",
        "This notebook illustrates how to perform a principal components analysis (PCA) in R. We will use the country risk dataset. The dataset contains variables of risk measures, GDP growth and population for about 120 countries. (Which year the data were collected is unknown.)"
      ],
      "metadata": {
        "id": "Yz0GiX7_rUGp"
      }
    },
    {
      "cell_type": "markdown",
      "source": [
        "#2 Load the data\n",
        "\n",
        "We first load the dataset and display its summary statistics.\n",
        "\n",
        "We also note that the numerical variables in this dataset are measured in different units. We discuss why this leads us to scale each of those variables to have mean zero and standard deviation one before we perform PCA."
      ],
      "metadata": {
        "id": "Y7EpLY3WtKkR"
      }
    },
    {
      "cell_type": "code",
      "execution_count": null,
      "metadata": {
        "id": "Tu0hlxVzbGdS"
      },
      "outputs": [],
      "source": [
        "# load the readxl package (for importing Excel datasets)\n",
        "library(readxl)"
      ]
    },
    {
      "cell_type": "code",
      "source": [
        "# download the dataset first because read_excel() from readxl package doesn't support reading Excel file from a URL directly\n",
        "data_url <- \"https://github.com/tdmdal/datasets-teaching/raw/main/crisk/country_risk.xlsx\"\n",
        "download.file(url = data_url, destfile = \"country_risk.xlsx\")"
      ],
      "metadata": {
        "id": "7pdK0w4sbO21"
      },
      "execution_count": null,
      "outputs": []
    },
    {
      "cell_type": "code",
      "source": [
        "# import the data to a dataframe\n",
        "country_risk <- read_xlsx(path = \"country_risk.xlsx\", sheet = \"raw_kmeans\", skip = 1)\n",
        "head(country_risk)"
      ],
      "metadata": {
        "id": "oa2fvA-TcsdP"
      },
      "execution_count": null,
      "outputs": []
    },
    {
      "cell_type": "code",
      "source": [
        "# take a look at the structure (str) of the dataframe/tibble\n",
        "str(country_risk)"
      ],
      "metadata": {
        "id": "a589M0Kzc_ep"
      },
      "execution_count": null,
      "outputs": []
    },
    {
      "cell_type": "markdown",
      "source": [
        "You can find the variable description in the Excel data file (in sheet `data_description`), which I also copy them below. The GDP Growth (in percentage) and Population variables are self-explanatory.\n",
        "\n",
        "| Variable   | Description                                                                      |\n",
        "|------------|----------------------------------------------------------------------------------|\n",
        "| Corruption | Corruption index is on a scale from 0 (high corruption) to 100 (no   corruption) |\n",
        "| Peace      | Peace index is on a scale from 1 (very peaceful) to 5 (not at all   peaceful)   |\n",
        "| Legal      | Legal risk index is on a scale from 0 (high legal risk) to 10 (no legal   risk)  |"
      ],
      "metadata": {
        "id": "krpt3zG8w_Cm"
      }
    },
    {
      "cell_type": "code",
      "source": [
        "# display summary statistics\n",
        "summary(country_risk)"
      ],
      "metadata": {
        "id": "tDoMteH-tsnQ"
      },
      "execution_count": null,
      "outputs": []
    },
    {
      "cell_type": "code",
      "source": [
        "# display a covariance matrix for numerical columns\n",
        "# mainly to demonstrate that the numerical variables have very different variances\n",
        "var(country_risk[c(\"Corruption\", \"Peace\", \"Legal\", \"GDP Growth\", \"Population\")])"
      ],
      "metadata": {
        "id": "P_0nx2kfe4uf"
      },
      "execution_count": null,
      "outputs": []
    },
    {
      "cell_type": "markdown",
      "source": [
        "Note that the variables are measured in different scales (or units). For example, the `Corruption` index variable is measured on a scale of 0 (high corruption) to 100 (no corruption) but the `Peace` variable is measured on a scale of 1 (very peaceful) to 5 (not at all peaceful). This difference in scales contributes to the difference in variances between the variables, and because variables with larger variances get larger first principal component loadings, difference in scales can affect PCA result. Since it is undesirable for the principal components obtained to depend on arbitrary choice of scaling (or units), before performing PCA we usually rescale each variable to have mean zero and standard deviation one."
      ],
      "metadata": {
        "id": "CnT-VmYk1skW"
      }
    },
    {
      "cell_type": "markdown",
      "source": [
        "#3 PCA\n"
      ],
      "metadata": {
        "id": "asnDCc1Pv_t2"
      }
    },
    {
      "cell_type": "markdown",
      "source": [
        "##3.1 Run the PCA algorithm\n",
        "\n",
        "We use the `prcomp()` function in the base R `stats` library/package to perform PCA. (There are other functions in R that perform PCA too.) By default, `prcomp()` centers variables to have mean zero, i.e., the `center` argument of `prcomp()` is already set to `TRUE` by default. To scale the data to have standard deviation one, we need to set the `scale` argument in `prcomp()` to `TRUE` as its default value is `FALSE`."
      ],
      "metadata": {
        "id": "C6SNez5czHIO"
      }
    },
    {
      "cell_type": "code",
      "source": [
        "# PCA; Note we set scale = TRUE\n",
        "pca_result <- prcomp(country_risk[c(\"Corruption\", \"Peace\", \"Legal\", \"GDP Growth\", \"Population\")], scale = TRUE)"
      ],
      "metadata": {
        "id": "VY7JalRbfvh3"
      },
      "execution_count": null,
      "outputs": []
    },
    {
      "cell_type": "markdown",
      "source": [
        "##3.2 Understand the output"
      ],
      "metadata": {
        "id": "ChGb7cbgzQF1"
      }
    },
    {
      "cell_type": "code",
      "source": [
        "# prcomp() returns a named list; display its data structure\n",
        "str(pca_result)"
      ],
      "metadata": {
        "id": "e3vGU62fgrGd"
      },
      "execution_count": null,
      "outputs": []
    },
    {
      "cell_type": "markdown",
      "source": [
        "We see the `prcomp()` returns a named list. The list stores all the results of the PCA. For example, the `center` and `scale` components stores the means and standard deviations of the variables that were used to scale the variables before the PCA."
      ],
      "metadata": {
        "id": "yE6KwK_Rfi8q"
      }
    },
    {
      "cell_type": "code",
      "source": [
        "# variable means\n",
        "print(pca_result$center)"
      ],
      "metadata": {
        "id": "tOH4JmvQgt5q"
      },
      "execution_count": null,
      "outputs": []
    },
    {
      "cell_type": "code",
      "source": [
        "# variable standard deviations\n",
        "print(pca_result$scale)"
      ],
      "metadata": {
        "id": "iPOrEd6fhD9Q"
      },
      "execution_count": null,
      "outputs": []
    },
    {
      "cell_type": "markdown",
      "source": [
        "The `rotation` component stores the principal component loadings. In our case, we have 5 principal components (the `PCx`columns), and each has 5 loadings. (In general, the number of principal components is given by $min(n, p)$, where $n$ is the number of observations and $p$ is the number of variables.)"
      ],
      "metadata": {
        "id": "uddNS7vsjQwS"
      }
    },
    {
      "cell_type": "code",
      "source": [
        "# PC loadings\n",
        "print(pca_result$rotation)"
      ],
      "metadata": {
        "id": "etO50XkjhfFx"
      },
      "execution_count": null,
      "outputs": []
    },
    {
      "cell_type": "code",
      "source": [
        "# verify the squared loadings for each PC indeed sum up to 1\n",
        "print(colSums(pca_result$rotation^2))"
      ],
      "metadata": {
        "id": "ExCobwOyuP9h"
      },
      "execution_count": null,
      "outputs": []
    },
    {
      "cell_type": "markdown",
      "source": [
        "The `x` component of the returned list contains the scores."
      ],
      "metadata": {
        "id": "HKM6f4KKboh3"
      }
    },
    {
      "cell_type": "code",
      "source": [
        "# PC scores\n",
        "pca_result$x"
      ],
      "metadata": {
        "id": "KWcTn_Zkhi_p"
      },
      "execution_count": null,
      "outputs": []
    },
    {
      "cell_type": "markdown",
      "source": [
        "##3.3 Visualize some results"
      ],
      "metadata": {
        "id": "_zVJjY39zZdF"
      }
    },
    {
      "cell_type": "markdown",
      "source": [
        "We can plot the first two principal components of the country risk data as below. This is a *biplot* as it displays both the scores and loadings of the first two principals."
      ],
      "metadata": {
        "id": "4sq-rqzxnVX2"
      }
    },
    {
      "cell_type": "code",
      "source": [
        "# plot the scores and loadings for the first two PCs.\n",
        "# the scale = 0 argument ensures that the arrows in the plot are scaled to represent the loadings.\n",
        "biplot(pca_result, scale = 0, xlabs=country_risk[[\"Abbrev\"]])"
      ],
      "metadata": {
        "id": "GXIGXQzhh5cK"
      },
      "execution_count": null,
      "outputs": []
    },
    {
      "cell_type": "markdown",
      "source": [
        "The data points (labeled by country abbreviations) are the scores for the first and second principal components. The red arrows indicate the first two principal's loading vectors (with axes on the top and right). For example, the loadings for `Corruption` on the first and second principal components are about 0.592 and 0.011 respectively (as given by `pca_result$rotation`). The `Corruption` arrow indicates the direction of (0.592, 0.011) and the red label `Corruption` is centered at (0.592, 0.011).\n",
        "\n",
        "**Note:** The `scale` argument of the `biplot()` function must be set to `0` to ensure that the arrows are scaled to represent the loadings.\n",
        "\n",
        "Overall, we see that the first principal component loading vector places most weights on `Corruption`, `legal` (both positive weights) and `Peace` (negative weights). The weights on `GDP Growth` and `Population` are small. Hence the first principal component roughly represents a weighted risk measure based on `Corruption`, `legal` and `Peace` variables.\n",
        "\n",
        "Similarly, the second principal component places most weights on `GDP Growth` and `Population`, the economic and demographic measures of a country."
      ],
      "metadata": {
        "id": "dYKDkNdLpFvN"
      }
    },
    {
      "cell_type": "markdown",
      "source": [
        "The `prcomp()` function also returns the standard deviation of each principal component. It's stored in the `sdev` component of the output list. We can use this information to plot variance explained and cumulative variance explained graphs."
      ],
      "metadata": {
        "id": "hj8K3iDdxAbb"
      }
    },
    {
      "cell_type": "code",
      "source": [
        "# display standard deviation of each principal component\n",
        "print(pca_result$sdev)"
      ],
      "metadata": {
        "id": "37M6pAOYk0ZG"
      },
      "execution_count": null,
      "outputs": []
    },
    {
      "cell_type": "code",
      "source": [
        "# display variance of each principal component\n",
        "pca_var <- pca_result$sdev^2\n",
        "print(pca_var)"
      ],
      "metadata": {
        "id": "sPDnG1llk6KB"
      },
      "execution_count": null,
      "outputs": []
    },
    {
      "cell_type": "code",
      "source": [
        "# calculate proportion of variance explained for each principal component\n",
        "prop_var_explained <- pca_var / sum(pca_var)\n",
        "print(prop_var_explained)"
      ],
      "metadata": {
        "id": "_w5V-A9TlJVH"
      },
      "execution_count": null,
      "outputs": []
    },
    {
      "cell_type": "code",
      "source": [
        "par(mfrow = c(1, 2))\n",
        "\n",
        "# plot proportion of variance explained\n",
        "plot(prop_var_explained,\n",
        "     xlab = \"Principal Component\",\n",
        "     ylab = \"Proportion of Variance Explained\",\n",
        "     ylim = c(0, 1),\n",
        "     type = \"b\")\n",
        "\n",
        "# plot cumulative proportion of variance explained\n",
        "plot(cumsum(prop_var_explained),\n",
        "     xlab = \"Principal Component\",\n",
        "     ylab = \"Cumulative Proportion of Variance Explained\",\n",
        "     ylim = c(0, 1),\n",
        "     type = \"b\")"
      ],
      "metadata": {
        "id": "VgDl5WMmlZuv"
      },
      "execution_count": null,
      "outputs": []
    },
    {
      "cell_type": "markdown",
      "source": [
        "We see that the first three principal components together explain about 90% of the total variance in the data. Depending on what you plan to do with the data, you may consider representing the original dataset (5D) using only its first three principal components (3D)."
      ],
      "metadata": {
        "id": "6PEGH9kKylcc"
      }
    },
    {
      "cell_type": "code",
      "source": [],
      "metadata": {
        "id": "l_oTV6EfyX1D"
      },
      "execution_count": null,
      "outputs": []
    }
  ]
}